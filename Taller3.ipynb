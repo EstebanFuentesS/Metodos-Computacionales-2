version https://git-lfs.github.com/spec/v1
oid sha256:bebf827f85629eddab861bc12f6cc6f8230a571a009c05b0a9b19067a63a68e9
size 1075201
