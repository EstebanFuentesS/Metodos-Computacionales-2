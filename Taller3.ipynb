version https://git-lfs.github.com/spec/v1
oid sha256:f53811a52a3c7c0b19497c83d3c3755c76c4a952ef998182c4369d676cad2ff7
size 978951
