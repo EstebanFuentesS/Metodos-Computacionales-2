version https://git-lfs.github.com/spec/v1
oid sha256:32d5f3a12df1085de548cb391dbb996a4c594cef2282dbd3de0c73a892b8621a
size 1033872
