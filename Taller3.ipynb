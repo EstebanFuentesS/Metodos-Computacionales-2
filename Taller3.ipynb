version https://git-lfs.github.com/spec/v1
oid sha256:e8e073fc3c8aaf1355dcad5768936ac7ed74628a810bd2bd74d10d9324173920
size 1034884
