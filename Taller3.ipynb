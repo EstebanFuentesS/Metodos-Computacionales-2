version https://git-lfs.github.com/spec/v1
oid sha256:c6a7ead9580dd4e8a578bbba33169312f5cdc581883074b90aa16d0fe87b4fd4
size 978951
