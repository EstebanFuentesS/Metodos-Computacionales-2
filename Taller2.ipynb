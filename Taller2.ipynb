{
 "cells": [
  {
   "cell_type": "markdown",
   "metadata": {},
   "source": [
    "**Taller #2**"
   ]
  },
  {
   "cell_type": "code",
   "execution_count": 2,
   "metadata": {},
   "outputs": [],
   "source": [
    "import numpy as np\n",
    "import matplotlib.pyplot as plt\n",
    "import pandas as pd\n",
    "import scipy as sp\n",
    "import scipy.stats as stats"
   ]
  },
  {
   "cell_type": "markdown",
   "metadata": {},
   "source": [
    "Punto 1"
   ]
  },
  {
   "cell_type": "code",
   "execution_count": 3,
   "metadata": {},
   "outputs": [],
   "source": [
    "#CARGA DE DATOS\n",
    "\n",
    "dict_data = {\"year\":[], \"month\":[], \"day\":[], \"SSN\":[]}\n",
    "counter = 0\n",
    "temp_list = None\n",
    "\n",
    "with open(\"list_aavso-arssn_daily.txt\") as data:\n",
    "    while True:\n",
    "        line = data.readline()\n",
    "        if counter > 1:\n",
    "            temp_list = line.split()\n",
    "            dict_data[\"year\"].append(float(temp_list[0]))\n",
    "            dict_data[\"month\"].append(float(temp_list[1]))\n",
    "            dict_data[\"day\"].append(float(temp_list[2]))\n",
    "            dict_data[\"SSN\"].append(float(temp_list[3]))\n",
    "        if temp_list == ['2012', '1', '1', '39']:\n",
    "            break\n",
    "        counter += 1"
   ]
  },
  {
   "cell_type": "markdown",
   "metadata": {},
   "source": [
    "*1.1*"
   ]
  },
  {
   "cell_type": "code",
   "execution_count": 40,
   "metadata": {},
   "outputs": [
    {
     "name": "stdout",
     "output_type": "stream",
     "text": [
      "El periodo de la señal es de: 11.174429223744294 años\n"
     ]
    }
   ],
   "source": [
    "#Creando un nuevo diccionario sin SSN:\n",
    "datos_fechas = dict_data.copy()\n",
    "datos_fechas.pop(\"SSN\")\n",
    "\n",
    "#Pasando al formato to_datetime\n",
    "formated_data = pd.to_datetime(datos_fechas)\n",
    "\n",
    "#Sacando la transformada de Fourier\n",
    "transformada = np.fft.fft(dict_data[\"SSN\"] - np.mean((dict_data)[\"SSN\"]))\n",
    "\n",
    "#Sacando la cantidad de muestras por año a travez de la moda de las muestras\n",
    "anios = {}\n",
    "for i in dict_data[\"year\"]:\n",
    "    if str(i) not in anios:\n",
    "        anios[f\"{i}\"] = dict_data[\"year\"].count(i)\n",
    "sample_frecuency = stats.mode([anios[x] for x in anios.keys()])[0]\n",
    "\n",
    "#Sacando la frecuencia del sistema\n",
    "freq = np.fft.fftfreq(len(dict_data[\"SSN\"]), d=1/sample_frecuency)\n",
    "magnitudes = np.abs(transformada)\n",
    "freq_positivas = freq[:len(freq) // 2]\n",
    "magnitudes_positivas = magnitudes[:len(magnitudes) // 2]\n",
    "frecuencia_principal = freq_positivas[list(magnitudes_positivas).index(np.max(magnitudes_positivas))]\n",
    "\n",
    "print(f\"El periodo de la señal es de: {1/frecuencia_principal} años\")"
   ]
  },
  {
   "cell_type": "markdown",
   "metadata": {},
   "source": [
    "*1.2*"
   ]
  },
  {
   "cell_type": "code",
   "execution_count": null,
   "metadata": {},
   "outputs": [],
   "source": []
  }
 ],
 "metadata": {
  "kernelspec": {
   "display_name": "Python 3",
   "language": "python",
   "name": "python3"
  },
  "language_info": {
   "codemirror_mode": {
    "name": "ipython",
    "version": 3
   },
   "file_extension": ".py",
   "mimetype": "text/x-python",
   "name": "python",
   "nbconvert_exporter": "python",
   "pygments_lexer": "ipython3",
   "version": "3.12.4"
  }
 },
 "nbformat": 4,
 "nbformat_minor": 2
}
