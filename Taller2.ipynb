{
 "cells": [
  {
   "cell_type": "markdown",
   "metadata": {},
   "source": [
    "**Taller #2**"
   ]
  },
  {
   "cell_type": "code",
   "execution_count": 23,
   "metadata": {},
   "outputs": [],
   "source": [
    "import numpy as np\n",
    "import matplotlib.pyplot as plt"
   ]
  },
  {
   "cell_type": "markdown",
   "metadata": {},
   "source": [
    "Punto 1"
   ]
  },
  {
   "cell_type": "code",
   "execution_count": 24,
   "metadata": {},
   "outputs": [],
   "source": [
    "#CARGA DE DATOS\n",
    "dict_data = {\"year\":[], \"month\":[], \"day\":[], \"SSN\":[]}\n",
    "counter = 0\n",
    "with open(\"list_aavso-arssn_daily.txt\") as data:\n",
    "    while True:\n",
    "        line = data.readline()\n",
    "        if counter > 1:\n",
    "            temp_list = line.split()\n",
    "            print(temp_list)\n",
    "            dict_data[\"year\"].append(temp_list[0])\n",
    "            dict_data[\"month\"].append(temp_list[1])\n",
    "            dict_data[\"day\"].append(temp_list[2])\n",
    "            dict_data[\"SSN\"].append(temp_list[3])\n",
    "        if temp_list == ['2012', '1', '1', '39']:\n",
    "            break\n",
    "        counter += 1"
   ]
  },
  {
   "cell_type": "code",
   "execution_count": null,
   "metadata": {},
   "outputs": [],
   "source": []
  }
 ],
 "metadata": {
  "kernelspec": {
   "display_name": "Python 3",
   "language": "python",
   "name": "python3"
  },
  "language_info": {
   "codemirror_mode": {
    "name": "ipython",
    "version": 3
   },
   "file_extension": ".py",
   "mimetype": "text/x-python",
   "name": "python",
   "nbconvert_exporter": "python",
   "pygments_lexer": "ipython3",
   "version": "3.11.9"
  }
 },
 "nbformat": 4,
 "nbformat_minor": 2
}
